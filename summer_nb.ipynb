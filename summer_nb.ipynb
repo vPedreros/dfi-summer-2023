{
 "cells": [
  {
   "attachments": {},
   "cell_type": "markdown",
   "metadata": {},
   "source": [
    "# Summer project "
   ]
  },
  {
   "attachments": {},
   "cell_type": "markdown",
   "metadata": {},
   "source": [
    "Note that you should have CAMB installed, which can be done by running `pip install camb`. For more information, visit https://camb.info/.\n",
    "\n",
    "The theory is heavily inspired in the articles contained on the folder ''Papers/''"
   ]
  },
  {
   "cell_type": "code",
   "execution_count": 30,
   "metadata": {},
   "outputs": [
    {
     "name": "stdout",
     "output_type": "stream",
     "text": [
      "Using CAMB 1.3.6 installed at /home/vpedre/anaconda3/lib/python3.9/site-packages/camb\n"
     ]
    }
   ],
   "source": [
    "%matplotlib inline\n",
    "%config InlineBackend.figure_format = 'retina'\n",
    "import sys, platform, os\n",
    "import matplotlib\n",
    "from matplotlib import pyplot as plt\n",
    "import numpy as np\n",
    "\n",
    "#Assume installed from github using \"git clone --recursive https://github.com/cmbant/CAMB.git\"\n",
    "#This file is then in the docs folders. Delete these two lines for pip/conda install.\n",
    "camb_path = os.path.realpath(os.path.join(os.getcwd(),'..'))\n",
    "sys.path.insert(0,camb_path)\n",
    "import camb\n",
    "from camb import model, initialpower\n",
    "print('Using CAMB %s installed at %s'%(camb.__version__,os.path.dirname(camb.__file__)))\n",
    "# make sure the version and path is what you expect"
   ]
  },
  {
   "attachments": {},
   "cell_type": "markdown",
   "metadata": {},
   "source": [
    "## Getting familiar with CAMB"
   ]
  },
  {
   "attachments": {},
   "cell_type": "markdown",
   "metadata": {},
   "source": [
    "### Basic functions"
   ]
  },
  {
   "cell_type": "code",
   "execution_count": 31,
   "metadata": {},
   "outputs": [],
   "source": [
    "pars = model.CAMBparams()  # Set of parameters created"
   ]
  },
  {
   "cell_type": "code",
   "execution_count": 36,
   "metadata": {},
   "outputs": [
    {
     "data": {
      "text/plain": [
       "class: <CAMBparams>\n",
       " WantCls = True\n",
       " WantTransfer = False\n",
       " WantScalars = True\n",
       " WantTensors = False\n",
       " WantVectors = False\n",
       " WantDerivedParameters = True\n",
       " Want_cl_2D_array = True\n",
       " Want_CMB = True\n",
       " Want_CMB_lensing = True\n",
       " DoLensing = True\n",
       " NonLinear = NonLinear_none\n",
       " Transfer: <TransferParams>\n",
       "   high_precision = False\n",
       "   accurate_massive_neutrinos = False\n",
       "   kmax = 0.9\n",
       "   k_per_logint = 0\n",
       "   PK_num_redshifts = 1\n",
       "   PK_redshifts = [0.0]\n",
       " want_zstar = False\n",
       " want_zdrag = False\n",
       " min_l = 2\n",
       " max_l = 2500\n",
       " max_l_tensor = 600\n",
       " max_eta_k = 5000.0\n",
       " max_eta_k_tensor = 1200.0\n",
       " ombh2 = 0.022\n",
       " omch2 = 0.122\n",
       " omk = 0.0\n",
       " omnuh2 = 0.0006451383989381787\n",
       " H0 = 67.5\n",
       " TCMB = 2.7255\n",
       " YHe = 0.24524332588411976\n",
       " num_nu_massless = 2.030666666666667\n",
       " num_nu_massive = 1\n",
       " nu_mass_eigenstates = 1\n",
       " share_delta_neff = False\n",
       " nu_mass_degeneracies = [1.0153333333333332]\n",
       " nu_mass_fractions = [1.0]\n",
       " nu_mass_numbers = [1]\n",
       " InitPower: <InitialPowerLaw>\n",
       "   tensor_parameterization = tensor_param_rpivot\n",
       "   ns = 0.96\n",
       "   nrun = 0.0\n",
       "   nrunrun = 0.0\n",
       "   nt = -0.0\n",
       "   ntrun = -0.0\n",
       "   r = 0.0\n",
       "   pivot_scalar = 0.05\n",
       "   pivot_tensor = 0.05\n",
       "   As = 2e-09\n",
       "   At = 1.0\n",
       " Recomb: <Recfast>\n",
       "   min_a_evolve_Tm = 0.0011098779505118728\n",
       "   RECFAST_fudge = 1.125\n",
       "   RECFAST_fudge_He = 0.86\n",
       "   RECFAST_Heswitch = 6\n",
       "   RECFAST_Hswitch = True\n",
       "   AGauss1 = -0.14\n",
       "   AGauss2 = 0.079\n",
       "   zGauss1 = 7.28\n",
       "   zGauss2 = 6.73\n",
       "   wGauss1 = 0.18\n",
       "   wGauss2 = 0.33\n",
       " Reion: <TanhReionization>\n",
       "   Reionization = True\n",
       "   use_optical_depth = True\n",
       "   redshift = 10.0\n",
       "   optical_depth = 0.06\n",
       "   delta_redshift = 0.5\n",
       "   fraction = -1.0\n",
       "   include_helium_fullreion = True\n",
       "   helium_redshift = 3.5\n",
       "   helium_delta_redshift = 0.4\n",
       "   helium_redshiftstart = 5.5\n",
       "   tau_solve_accuracy_boost = 1.0\n",
       "   timestep_boost = 1.0\n",
       "   max_redshift = 50.0\n",
       " DarkEnergy: <DarkEnergyFluid>\n",
       "   w = -1.0\n",
       "   wa = 0.0\n",
       "   cs2 = 1.0\n",
       "   use_tabulated_w = False\n",
       " NonLinearModel: <Halofit>\n",
       "   Min_kh_nonlinear = 0.005\n",
       "   halofit_version = mead2020\n",
       "   HMCode_A_baryon = 3.13\n",
       "   HMCode_eta_baryon = 0.603\n",
       "   HMCode_logT_AGN = 7.8\n",
       " Accuracy: <AccuracyParams>\n",
       "   AccuracyBoost = 1.0\n",
       "   lSampleBoost = 1.0\n",
       "   lAccuracyBoost = 1.0\n",
       "   AccuratePolarization = True\n",
       "   AccurateBB = False\n",
       "   AccurateReionization = True\n",
       "   TimeStepBoost = 1.0\n",
       "   BackgroundTimeStepBoost = 1.0\n",
       "   IntTolBoost = 1.0\n",
       "   SourcekAccuracyBoost = 1.0\n",
       "   IntkAccuracyBoost = 1.0\n",
       "   TransferkBoost = 1.0\n",
       "   NonFlatIntAccuracyBoost = 1.0\n",
       "   BessIntBoost = 1.0\n",
       "   LensingBoost = 1.0\n",
       "   NonlinSourceBoost = 1.0\n",
       "   BesselBoost = 1.0\n",
       "   LimberBoost = 1.0\n",
       "   SourceLimberBoost = 1.0\n",
       "   KmaxBoost = 1.0\n",
       "   neutrino_q_boost = 1.0\n",
       " SourceTerms: <SourceTermParams>\n",
       "   limber_windows = True\n",
       "   limber_phi_lmin = 100\n",
       "   counts_density = True\n",
       "   counts_redshift = True\n",
       "   counts_lensing = False\n",
       "   counts_velocity = True\n",
       "   counts_radial = False\n",
       "   counts_timedelay = True\n",
       "   counts_ISW = True\n",
       "   counts_potential = True\n",
       "   counts_evolve = False\n",
       "   line_phot_dipole = False\n",
       "   line_phot_quadrupole = False\n",
       "   line_basic = True\n",
       "   line_distortions = True\n",
       "   line_extra = False\n",
       "   line_reionization = False\n",
       "   use_21cm_mK = True\n",
       " z_outputs = []\n",
       " scalar_initial_condition = initial_adiabatic\n",
       " InitialConditionVector = []\n",
       " OutputNormalization = 1\n",
       " Alens = 1.0\n",
       " MassiveNuMethod = Nu_best\n",
       " DoLateRadTruncation = True\n",
       " Evolve_baryon_cs = False\n",
       " Evolve_delta_xe = False\n",
       " Evolve_delta_Ts = False\n",
       " Do21cm = False\n",
       " transfer_21cm_cl = False\n",
       " Log_lvalues = False\n",
       " use_cl_spline_template = True\n",
       " SourceWindows = []\n",
       " CustomSources: <CustomSources>\n",
       "   num_custom_sources = 0\n",
       "   c_source_func = None\n",
       "   custom_source_ell_scales = []\n",
       " "
      ]
     },
     "execution_count": 36,
     "metadata": {},
     "output_type": "execute_result"
    }
   ],
   "source": [
    "# Some parameters were set as showed in the demo\n",
    "pars.set_cosmology(H0=67.5, ombh2=0.022, omch2=0.122, mnu=0.06, omk=0, tau=0.06)"
   ]
  },
  {
   "cell_type": "markdown",
   "metadata": {},
   "source": [
    "#### Get the age of the universe `get_age()`"
   ]
  },
  {
   "cell_type": "code",
   "execution_count": 35,
   "metadata": {},
   "outputs": [
    {
     "data": {
      "text/plain": [
       "13.74073863845039"
      ]
     },
     "execution_count": 35,
     "metadata": {},
     "output_type": "execute_result"
    }
   ],
   "source": [
    "camb.get_age(pars)  # age of the universe for given set of parameters"
   ]
  },
  {
   "attachments": {},
   "cell_type": "markdown",
   "metadata": {},
   "source": [
    "#### Calculate background cosmology"
   ]
  },
  {
   "cell_type": "code",
   "execution_count": 44,
   "metadata": {},
   "outputs": [],
   "source": [
    "bgd = camb.get_background(pars, no_thermo=False) "
   ]
  },
  {
   "cell_type": "code",
   "execution_count": 45,
   "metadata": {},
   "outputs": [],
   "source": [
    "results = camb.get_results(pars)"
   ]
  },
  {
   "cell_type": "code",
   "execution_count": 52,
   "metadata": {},
   "outputs": [
    {
     "data": {
      "text/plain": [
       "2500"
      ]
     },
     "execution_count": 52,
     "metadata": {},
     "output_type": "execute_result"
    }
   ],
   "source": [
    "bgd.Params.max_l"
   ]
  },
  {
   "attachments": {},
   "cell_type": "markdown",
   "metadata": {},
   "source": [
    "## Defining Background Quantities $E(z)\\,\\, \\&\\,\\, D(z)$\n",
    "\n"
   ]
  },
  {
   "attachments": {},
   "cell_type": "markdown",
   "metadata": {},
   "source": [
    "In the context of GR, cosmic acceleration requires a fluid, dubbed **Dark Energy** (DE), with an equation of state $w_{DE} < -1/3$. The standard model of csomology, commonly refered to as the $\\Lambda CDM$ model, assumes that this phenomenon is due to the presence of a cosmological constant $\\Lambda$ described by a constant equation state $w_{\\Lambda} = -1$, which corresponds to a time-independent energy density. This has some problems (*cosmological constant problem* and *coincidence problem*), so a more general scenario for the component responsible for cosmic acceleration postulates a dynamical DE, with a dependent equation of state parameter $w_{DE}(z)$.\n",
    "$$w_{DE}(z) = w_0 + w_a\\frac{z}{1+z}$$\n",
    "Where $w_0$ is  the present value of the equation of state and $w_a$ is a measure of its variation. The evolution of the DE density obeys\n",
    "$$\\rho_{DE} (z) = \\rho_{DE,0} (1+z)^{3(1+w_0+w_a)}exp\\left[-3w_a\\frac{z}{1+z}\\right] $$\n",
    "\n",
    "Then, we can get\n",
    "$$E(z) = \\sqrt{\n",
    "    \\Omega_{m,0}(1+z)^3 + \\Omega_{DE,0}(1+z)^{3(1+w_0+w_a)}exp\\left[-3w_a\\frac{z}{1+z}\\right] + \\Omega_{K,0}(1+z)^2\n",
    "}$$\n",
    "With the current DE density $\\Omega_{DE,0}$ satisfying the relation $\\Omega_{DE,0} = 1 - \\Omega_{m,0} - \\Omega_{K, 0}$. The $\\Lambda CDM$ model can be recovered by setting $w_0=-1$ and $w_a=0$, in which case\n",
    "\n",
    "$$E(z) = \\sqrt{\n",
    "    \\Omega_{m,0}(1+z)^3 + \\Omega_{\\Lambda,0} + \\Omega_{K,0}(1+z)^2\n",
    "}$$"
   ]
  },
  {
   "cell_type": "code",
   "execution_count": 28,
   "metadata": {},
   "outputs": [],
   "source": [
    "def E(z, Omm, Omde, OmK, w_0, w_a):\n",
    "    bar = Omm * (1 + z) ** 3\n",
    "    de = Omde * (1 + z) ** (3 * (1 + w_0 + w_a)) * np.exp(-3 * w_a * z / (1 + z))\n",
    "    cur = OmK * (1 + z) ** 2\n",
    "    return np.sqrt(bar + de + cur)\n"
   ]
  },
  {
   "cell_type": "code",
   "execution_count": null,
   "metadata": {},
   "outputs": [],
   "source": []
  }
 ],
 "metadata": {
  "kernelspec": {
   "display_name": "base",
   "language": "python",
   "name": "python3"
  },
  "language_info": {
   "codemirror_mode": {
    "name": "ipython",
    "version": 3
   },
   "file_extension": ".py",
   "mimetype": "text/x-python",
   "name": "python",
   "nbconvert_exporter": "python",
   "pygments_lexer": "ipython3",
   "version": "3.9.13"
  },
  "orig_nbformat": 4,
  "vscode": {
   "interpreter": {
    "hash": "2c3681a87b86add1172fbe8a32f5d35d3fd70a7daccc3150707e7fc364115604"
   }
  }
 },
 "nbformat": 4,
 "nbformat_minor": 2
}
