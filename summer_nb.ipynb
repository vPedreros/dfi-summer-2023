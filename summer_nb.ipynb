{
 "cells": [
  {
   "attachments": {},
   "cell_type": "markdown",
   "metadata": {},
   "source": [
    "# Summer project "
   ]
  },
  {
   "attachments": {},
   "cell_type": "markdown",
   "metadata": {},
   "source": [
    "Note that you should have CAMB installed, which can be done by running `pip install camb`. For more information, visit https://camb.info/.\n",
    "\n",
    "The theory is heavily inspired in the articles contained on the folder ''Papers/''"
   ]
  },
  {
   "cell_type": "code",
   "execution_count": 1,
   "metadata": {},
   "outputs": [
    {
     "name": "stdout",
     "output_type": "stream",
     "text": [
      "Using CAMB 1.3.6 installed at /home/vpedre/anaconda3/lib/python3.9/site-packages/camb\n"
     ]
    }
   ],
   "source": [
    "%matplotlib inline\n",
    "%config InlineBackend.figure_format = 'retina'\n",
    "import sys, platform, os\n",
    "import matplotlib\n",
    "from matplotlib import pyplot as plt\n",
    "import numpy as np\n",
    "from astropy import constants as const\n",
    "import scipy.integrate as integrate\n",
    "\n",
    "#Assume installed from github using \"git clone --recursive https://github.com/cmbant/CAMB.git\"\n",
    "#This file is then in the docs folders. Delete these two lines for pip/conda install.\n",
    "camb_path = os.path.realpath(os.path.join(os.getcwd(),'..'))\n",
    "sys.path.insert(0,camb_path)\n",
    "import camb\n",
    "from camb import model, initialpower\n",
    "print('Using CAMB %s installed at %s'%(camb.__version__,os.path.dirname(camb.__file__)))\n",
    "# make sure the version and path is what you expect"
   ]
  },
  {
   "attachments": {},
   "cell_type": "markdown",
   "metadata": {},
   "source": [
    "## Getting familiar with CAMB"
   ]
  },
  {
   "attachments": {},
   "cell_type": "markdown",
   "metadata": {},
   "source": [
    "### Basic functions"
   ]
  },
  {
   "cell_type": "code",
   "execution_count": 2,
   "metadata": {},
   "outputs": [
    {
     "data": {
      "text/plain": [
       "class: <CAMBparams>\n",
       " WantCls = True\n",
       " WantTransfer = False\n",
       " WantScalars = True\n",
       " WantTensors = False\n",
       " WantVectors = False\n",
       " WantDerivedParameters = True\n",
       " Want_cl_2D_array = True\n",
       " Want_CMB = True\n",
       " Want_CMB_lensing = True\n",
       " DoLensing = True\n",
       " NonLinear = NonLinear_none\n",
       " Transfer: <TransferParams>\n",
       "   high_precision = False\n",
       "   accurate_massive_neutrinos = False\n",
       "   kmax = 0.9\n",
       "   k_per_logint = 0\n",
       "   PK_num_redshifts = 1\n",
       "   PK_redshifts = [0.0]\n",
       " want_zstar = False\n",
       " want_zdrag = False\n",
       " min_l = 2\n",
       " max_l = 2500\n",
       " max_l_tensor = 600\n",
       " max_eta_k = 5000.0\n",
       " max_eta_k_tensor = 1200.0\n",
       " ombh2 = 0.022\n",
       " omch2 = 0.122\n",
       " omk = 0.0\n",
       " omnuh2 = 0.0006451383989381787\n",
       " H0 = 67.5\n",
       " TCMB = 2.7255\n",
       " YHe = 0.24524332588411976\n",
       " num_nu_massless = 2.030666666666667\n",
       " num_nu_massive = 1\n",
       " nu_mass_eigenstates = 1\n",
       " share_delta_neff = False\n",
       " nu_mass_degeneracies = [1.0153333333333332]\n",
       " nu_mass_fractions = [1.0]\n",
       " nu_mass_numbers = [1]\n",
       " InitPower: <InitialPowerLaw>\n",
       "   tensor_parameterization = tensor_param_rpivot\n",
       "   ns = 0.96\n",
       "   nrun = 0.0\n",
       "   nrunrun = 0.0\n",
       "   nt = -0.0\n",
       "   ntrun = -0.0\n",
       "   r = 0.0\n",
       "   pivot_scalar = 0.05\n",
       "   pivot_tensor = 0.05\n",
       "   As = 2e-09\n",
       "   At = 1.0\n",
       " Recomb: <Recfast>\n",
       "   min_a_evolve_Tm = 0.0011098779505118728\n",
       "   RECFAST_fudge = 1.125\n",
       "   RECFAST_fudge_He = 0.86\n",
       "   RECFAST_Heswitch = 6\n",
       "   RECFAST_Hswitch = True\n",
       "   AGauss1 = -0.14\n",
       "   AGauss2 = 0.079\n",
       "   zGauss1 = 7.28\n",
       "   zGauss2 = 6.73\n",
       "   wGauss1 = 0.18\n",
       "   wGauss2 = 0.33\n",
       " Reion: <TanhReionization>\n",
       "   Reionization = True\n",
       "   use_optical_depth = True\n",
       "   redshift = 10.0\n",
       "   optical_depth = 0.06\n",
       "   delta_redshift = 0.5\n",
       "   fraction = -1.0\n",
       "   include_helium_fullreion = True\n",
       "   helium_redshift = 3.5\n",
       "   helium_delta_redshift = 0.4\n",
       "   helium_redshiftstart = 5.5\n",
       "   tau_solve_accuracy_boost = 1.0\n",
       "   timestep_boost = 1.0\n",
       "   max_redshift = 50.0\n",
       " DarkEnergy: <DarkEnergyFluid>\n",
       "   w = -1.0\n",
       "   wa = 0.0\n",
       "   cs2 = 1.0\n",
       "   use_tabulated_w = False\n",
       " NonLinearModel: <Halofit>\n",
       "   Min_kh_nonlinear = 0.005\n",
       "   halofit_version = mead2020\n",
       "   HMCode_A_baryon = 3.13\n",
       "   HMCode_eta_baryon = 0.603\n",
       "   HMCode_logT_AGN = 7.8\n",
       " Accuracy: <AccuracyParams>\n",
       "   AccuracyBoost = 1.0\n",
       "   lSampleBoost = 1.0\n",
       "   lAccuracyBoost = 1.0\n",
       "   AccuratePolarization = True\n",
       "   AccurateBB = False\n",
       "   AccurateReionization = True\n",
       "   TimeStepBoost = 1.0\n",
       "   BackgroundTimeStepBoost = 1.0\n",
       "   IntTolBoost = 1.0\n",
       "   SourcekAccuracyBoost = 1.0\n",
       "   IntkAccuracyBoost = 1.0\n",
       "   TransferkBoost = 1.0\n",
       "   NonFlatIntAccuracyBoost = 1.0\n",
       "   BessIntBoost = 1.0\n",
       "   LensingBoost = 1.0\n",
       "   NonlinSourceBoost = 1.0\n",
       "   BesselBoost = 1.0\n",
       "   LimberBoost = 1.0\n",
       "   SourceLimberBoost = 1.0\n",
       "   KmaxBoost = 1.0\n",
       "   neutrino_q_boost = 1.0\n",
       " SourceTerms: <SourceTermParams>\n",
       "   limber_windows = True\n",
       "   limber_phi_lmin = 100\n",
       "   counts_density = True\n",
       "   counts_redshift = True\n",
       "   counts_lensing = False\n",
       "   counts_velocity = True\n",
       "   counts_radial = False\n",
       "   counts_timedelay = True\n",
       "   counts_ISW = True\n",
       "   counts_potential = True\n",
       "   counts_evolve = False\n",
       "   line_phot_dipole = False\n",
       "   line_phot_quadrupole = False\n",
       "   line_basic = True\n",
       "   line_distortions = True\n",
       "   line_extra = False\n",
       "   line_reionization = False\n",
       "   use_21cm_mK = True\n",
       " z_outputs = []\n",
       " scalar_initial_condition = initial_adiabatic\n",
       " InitialConditionVector = []\n",
       " OutputNormalization = 1\n",
       " Alens = 1.0\n",
       " MassiveNuMethod = Nu_best\n",
       " DoLateRadTruncation = True\n",
       " Evolve_baryon_cs = False\n",
       " Evolve_delta_xe = False\n",
       " Evolve_delta_Ts = False\n",
       " Do21cm = False\n",
       " transfer_21cm_cl = False\n",
       " Log_lvalues = False\n",
       " use_cl_spline_template = True\n",
       " SourceWindows = []\n",
       " CustomSources: <CustomSources>\n",
       "   num_custom_sources = 0\n",
       "   c_source_func = None\n",
       "   custom_source_ell_scales = []\n",
       " "
      ]
     },
     "execution_count": 2,
     "metadata": {},
     "output_type": "execute_result"
    }
   ],
   "source": [
    "pars = model.CAMBparams()  # Set of parameters created\n",
    "\n",
    "# Some parameters were set as showed in the demo\n",
    "pars.set_cosmology(H0=67.5, ombh2=0.022, omch2=0.122, mnu=0.06, omk=0, tau=0.06)"
   ]
  },
  {
   "cell_type": "code",
   "execution_count": 3,
   "metadata": {},
   "outputs": [
    {
     "data": {
      "text/plain": [
       "13.74073863845039"
      ]
     },
     "execution_count": 3,
     "metadata": {},
     "output_type": "execute_result"
    }
   ],
   "source": [
    "camb.get_age(pars)  # age of the universe for given set of parameters"
   ]
  },
  {
   "cell_type": "code",
   "execution_count": 4,
   "metadata": {},
   "outputs": [
    {
     "data": {
      "text/plain": [
       "1.0"
      ]
     },
     "execution_count": 4,
     "metadata": {},
     "output_type": "execute_result"
    }
   ],
   "source": [
    "results = camb.get_results(pars)\n",
    "\n",
    "# neutino is for massles and nu for massive neutrinos\n",
    "var = ['K', 'cdm', 'baryon', 'photon', 'neutrino' , 'nu', 'de']\n",
    "Om_tot = 0\n",
    "\n",
    "for v in var:\n",
    "    Om_tot += results.get_Omega(v)\n",
    "\n",
    "Om_tot"
   ]
  },
  {
   "attachments": {},
   "cell_type": "markdown",
   "metadata": {},
   "source": [
    "## Cosmological parameters from Planck\n",
    "\n",
    "From [Planck Collaboration (2018)](https://arxiv.org/pdf/1807.06209.pdf) Table 1, ''Combined'' column.\n",
    "\n",
    "Something worth remembering $\\sum_i^n \\Omega_i(z) + \\Omega_K(z) = 1$"
   ]
  },
  {
   "cell_type": "code",
   "execution_count": 5,
   "metadata": {},
   "outputs": [
    {
     "data": {
      "text/plain": [
       "class: <CAMBparams>\n",
       " WantCls = True\n",
       " WantTransfer = False\n",
       " WantScalars = True\n",
       " WantTensors = False\n",
       " WantVectors = False\n",
       " WantDerivedParameters = True\n",
       " Want_cl_2D_array = True\n",
       " Want_CMB = True\n",
       " Want_CMB_lensing = True\n",
       " DoLensing = True\n",
       " NonLinear = NonLinear_none\n",
       " Transfer: <TransferParams>\n",
       "   high_precision = False\n",
       "   accurate_massive_neutrinos = False\n",
       "   kmax = 0.9\n",
       "   k_per_logint = 0\n",
       "   PK_num_redshifts = 1\n",
       "   PK_redshifts = [0.0]\n",
       " want_zstar = False\n",
       " want_zdrag = False\n",
       " min_l = 2\n",
       " max_l = 2500\n",
       " max_l_tensor = 600\n",
       " max_eta_k = 5000.0\n",
       " max_eta_k_tensor = 1200.0\n",
       " ombh2 = 0.02233\n",
       " omch2 = 0.1198\n",
       " omk = 0.0\n",
       " omnuh2 = 0.0006451383989381787\n",
       " H0 = 67.4\n",
       " TCMB = 2.7255\n",
       " YHe = 0.24538288182613635\n",
       " num_nu_massless = 2.030666666666667\n",
       " num_nu_massive = 1\n",
       " nu_mass_eigenstates = 1\n",
       " share_delta_neff = False\n",
       " nu_mass_degeneracies = [1.0153333333333332]\n",
       " nu_mass_fractions = [1.0]\n",
       " nu_mass_numbers = [1]\n",
       " InitPower: <InitialPowerLaw>\n",
       "   tensor_parameterization = tensor_param_rpivot\n",
       "   ns = 0.96\n",
       "   nrun = 0.0\n",
       "   nrunrun = 0.0\n",
       "   nt = -0.0\n",
       "   ntrun = -0.0\n",
       "   r = 0.0\n",
       "   pivot_scalar = 0.05\n",
       "   pivot_tensor = 0.05\n",
       "   As = 2e-09\n",
       "   At = 1.0\n",
       " Recomb: <Recfast>\n",
       "   min_a_evolve_Tm = 0.0011098779505118728\n",
       "   RECFAST_fudge = 1.125\n",
       "   RECFAST_fudge_He = 0.86\n",
       "   RECFAST_Heswitch = 6\n",
       "   RECFAST_Hswitch = True\n",
       "   AGauss1 = -0.14\n",
       "   AGauss2 = 0.079\n",
       "   zGauss1 = 7.28\n",
       "   zGauss2 = 6.73\n",
       "   wGauss1 = 0.18\n",
       "   wGauss2 = 0.33\n",
       " Reion: <TanhReionization>\n",
       "   Reionization = True\n",
       "   use_optical_depth = True\n",
       "   redshift = 10.0\n",
       "   optical_depth = 0.054\n",
       "   delta_redshift = 0.5\n",
       "   fraction = -1.0\n",
       "   include_helium_fullreion = True\n",
       "   helium_redshift = 3.5\n",
       "   helium_delta_redshift = 0.4\n",
       "   helium_redshiftstart = 5.5\n",
       "   tau_solve_accuracy_boost = 1.0\n",
       "   timestep_boost = 1.0\n",
       "   max_redshift = 50.0\n",
       " DarkEnergy: <DarkEnergyFluid>\n",
       "   w = -1.0\n",
       "   wa = 0.0\n",
       "   cs2 = 1.0\n",
       "   use_tabulated_w = False\n",
       " NonLinearModel: <Halofit>\n",
       "   Min_kh_nonlinear = 0.005\n",
       "   halofit_version = mead2020\n",
       "   HMCode_A_baryon = 3.13\n",
       "   HMCode_eta_baryon = 0.603\n",
       "   HMCode_logT_AGN = 7.8\n",
       " Accuracy: <AccuracyParams>\n",
       "   AccuracyBoost = 1.0\n",
       "   lSampleBoost = 1.0\n",
       "   lAccuracyBoost = 1.0\n",
       "   AccuratePolarization = True\n",
       "   AccurateBB = False\n",
       "   AccurateReionization = True\n",
       "   TimeStepBoost = 1.0\n",
       "   BackgroundTimeStepBoost = 1.0\n",
       "   IntTolBoost = 1.0\n",
       "   SourcekAccuracyBoost = 1.0\n",
       "   IntkAccuracyBoost = 1.0\n",
       "   TransferkBoost = 1.0\n",
       "   NonFlatIntAccuracyBoost = 1.0\n",
       "   BessIntBoost = 1.0\n",
       "   LensingBoost = 1.0\n",
       "   NonlinSourceBoost = 1.0\n",
       "   BesselBoost = 1.0\n",
       "   LimberBoost = 1.0\n",
       "   SourceLimberBoost = 1.0\n",
       "   KmaxBoost = 1.0\n",
       "   neutrino_q_boost = 1.0\n",
       " SourceTerms: <SourceTermParams>\n",
       "   limber_windows = True\n",
       "   limber_phi_lmin = 100\n",
       "   counts_density = True\n",
       "   counts_redshift = True\n",
       "   counts_lensing = False\n",
       "   counts_velocity = True\n",
       "   counts_radial = False\n",
       "   counts_timedelay = True\n",
       "   counts_ISW = True\n",
       "   counts_potential = True\n",
       "   counts_evolve = False\n",
       "   line_phot_dipole = False\n",
       "   line_phot_quadrupole = False\n",
       "   line_basic = True\n",
       "   line_distortions = True\n",
       "   line_extra = False\n",
       "   line_reionization = False\n",
       "   use_21cm_mK = True\n",
       " z_outputs = []\n",
       " scalar_initial_condition = initial_adiabatic\n",
       " InitialConditionVector = []\n",
       " OutputNormalization = 1\n",
       " Alens = 1.0\n",
       " MassiveNuMethod = Nu_best\n",
       " DoLateRadTruncation = True\n",
       " Evolve_baryon_cs = False\n",
       " Evolve_delta_xe = False\n",
       " Evolve_delta_Ts = False\n",
       " Do21cm = False\n",
       " transfer_21cm_cl = False\n",
       " Log_lvalues = False\n",
       " use_cl_spline_template = True\n",
       " SourceWindows = []\n",
       " CustomSources: <CustomSources>\n",
       "   num_custom_sources = 0\n",
       "   c_source_func = None\n",
       "   custom_source_ell_scales = []\n",
       " "
      ]
     },
     "execution_count": 5,
     "metadata": {},
     "output_type": "execute_result"
    }
   ],
   "source": [
    "pars = model.CAMBparams()  # Set of parameters created\n",
    "\n",
    "pars.set_dark_energy(w=-1.0, wa=0, dark_energy_model='fluid')\n",
    "pars.set_cosmology(H0=67.4, ombh2=0.02233, omch2=0.1198, omk=0, tau=0.054)"
   ]
  },
  {
   "cell_type": "code",
   "execution_count": 6,
   "metadata": {},
   "outputs": [],
   "source": [
    "results = camb.get_results(pars)\n",
    "\n",
    "omde = results.get_Omega('de')\n",
    "omk = pars.omk\n",
    "omm = 1 - omde - omk"
   ]
  },
  {
   "attachments": {},
   "cell_type": "markdown",
   "metadata": {},
   "source": [
    "## Background Quantities"
   ]
  },
  {
   "attachments": {},
   "cell_type": "markdown",
   "metadata": {},
   "source": [
    "In the context of GR, cosmic acceleration requires a fluid, dubbed **Dark Energy** (DE), with an equation of state $w_{DE} < -1/3$. The standard model of csomology, commonly refered to as the $\\Lambda CDM$ model, assumes that this phenomenon is due to the presence of a cosmological constant $\\Lambda$ described by a constant equation state $w_{\\Lambda} = -1$, which corresponds to a time-independent energy density. This has some problems (*cosmological constant problem* and *coincidence problem*), so a more general scenario for the component responsible for cosmic acceleration postulates a dynamical DE, with a dependent equation of state parameter $w_{DE}(z)$.\n",
    "$$w_{DE}(z) = w_0 + w_a\\frac{z}{1+z}$$\n",
    "Where $w_0$ is  the present value of the equation of state and $w_a$ is a measure of its variation. The evolution of the DE density obeys\n",
    "$$\\rho_{DE} (z) = \\rho_{DE,0} (1+z)^{3(1+w_0+w_a)}exp\\left[-3w_a\\frac{z}{1+z}\\right] $$\n",
    "\n",
    "Then, we can get\n",
    "$$E(z) = \\sqrt{\n",
    "    \\Omega_{m,0}(1+z)^3 + \\Omega_{DE,0}(1+z)^{3(1+w_0+w_a)}exp\\left[-3w_a\\frac{z}{1+z}\\right] + \\Omega_{K,0}(1+z)^2\n",
    "}$$\n",
    "With the current DE density $\\Omega_{DE,0}$ satisfying the relation $\\Omega_{DE,0} = 1 - \\Omega_{m,0} - \\Omega_{K, 0}$. The $\\Lambda CDM$ model can be recovered by setting $w_0=-1$ and $w_a=0$, in which case\n",
    "\n",
    "$$E(z) = \\sqrt{\n",
    "    \\Omega_{m,0}(1+z)^3 + \\Omega_{\\Lambda,0} + \\Omega_{K,0}(1+z)^2\n",
    "}$$"
   ]
  },
  {
   "cell_type": "code",
   "execution_count": 7,
   "metadata": {},
   "outputs": [],
   "source": [
    "def E(z, Omm=omm, Omde=omde, OmK=omk, w_0=pars.DarkEnergy.w, w_a=pars.DarkEnergy.wa):\n",
    "    bar = Omm * (1 + z) ** 3\n",
    "    de = Omde * (1 + z) ** (3 * (1 + w_0 + w_a)) * np.exp(-3 * w_a * z / (1 + z))\n",
    "    cur = OmK * (1 + z) ** 2\n",
    "    return np.sqrt(bar + de + cur)"
   ]
  },
  {
   "cell_type": "code",
   "execution_count": 8,
   "metadata": {},
   "outputs": [
    {
     "data": {
      "image/png": "[encoded data removed]",
      "text/plain": [
       "<Figure size 640x480 with 1 Axes>"
      ]
     },
     "metadata": {
      "image/png": {
       "height": 432,
       "width": 567
      }
     },
     "output_type": "display_data"
    }
   ],
   "source": [
    "z_to_plot = np.linspace(0, 2.5, 100)\n",
    "\n",
    "fig, ax = plt.subplots()\n",
    "\n",
    "ax.plot(z_to_plot, E(z_to_plot))\n",
    "ax.set_xlabel('Redshift $z$')\n",
    "ax.set_ylabel('$E(z)$');\n",
    "# ax.set_title('');"
   ]
  },
  {
   "attachments": {},
   "cell_type": "markdown",
   "metadata": {},
   "source": [
    "## Distance measurements"
   ]
  },
  {
   "attachments": {},
   "cell_type": "markdown",
   "metadata": {},
   "source": [
    "The comoving distance to an object at redshift $z$ can be computed as\n",
    "$$r(z)  \\frac{c}{H_0} \\int _0^z \\frac{dz}{E(z)}$$\n",
    "This quantity is not a direct observable, but it is closely related to other distance definitions that are directly linked with cosmological observations. A relevant distance is the **angular diameter disantance** (at least for our forecasts), whose definitiion is based on the relation between the apparent angular size of an object and its true physical size in Euclidean space, which is relate to the comoving distance by\n",
    "$$D_A(z) = \\begin{cases}\n",
    "(1 + z)^{-1} \\frac{c}{H_0} \\frac{1}{\\sqrt{|\\Omega_{K,0}|}} sin\\left[\\sqrt{|\\Omega_{K,0}|} \\frac{H_0}{c}r(z)\\right]& \\text{if}\\, \\, \\Omega_{K,0} < 0 \\\\\n",
    "(1 + z)^{-1} r(z) & \\text{if}\\, \\, \\Omega_{K,0} = 0 \\\\\n",
    "(1 + z)^{-1} \\frac{c}{H_0} \\frac{1}{\\sqrt{\\Omega_{K,0}}} sinh\\left[\\sqrt{\\Omega_{K,0}} \\frac{H_0}{c}r(z)\\right]& \\text{if}\\, \\, \\Omega_{K,0} < 0 \\\\\n",
    "\\end{cases}$$\n",
    "\n",
    "and this angular diameter distance is related to the transverse comoving distance by $D_A = D_M / (1+z)$"
   ]
  },
  {
   "cell_type": "code",
   "execution_count": 9,
   "metadata": {},
   "outputs": [],
   "source": [
    "def r(z):\n",
    "    \"\"\"Comoving Distance as a function of the redshift\n",
    "    Quad integration from scipy is used.\n",
    "    ===================================================\n",
    "    Input: redshift z\n",
    "    Output: comoving distance r\n",
    "    \"\"\"\n",
    "    def integrand(u):\n",
    "        return 1/E(u)\n",
    "    integral = integrate.quad(integrand, 0, z)[0]\n",
    "    return const.c.value / pars.H0 * integral"
   ]
  },
  {
   "cell_type": "code",
   "execution_count": 10,
   "metadata": {},
   "outputs": [
    {
     "data": {
      "image/png": "[encoded data removed]",
      "text/plain": [
       "<Figure size 640x480 with 1 Axes>"
      ]
     },
     "metadata": {
      "image/png": {
       "height": 448,
       "width": 554
      }
     },
     "output_type": "display_data"
    }
   ],
   "source": [
    "z_to_plot = np.linspace(0, 2.5, 100)\n",
    "\n",
    "fig, ax = plt.subplots()\n",
    "for z in z_to_plot:\n",
    "    ax.scatter(z, r(z), c='b', s=0.5)\n",
    "ax.set_xlabel('Redshift $z$')\n",
    "ax.set_ylabel('$r(z)$');\n",
    "# ax.set_title('');"
   ]
  },
  {
   "cell_type": "code",
   "execution_count": 11,
   "metadata": {},
   "outputs": [],
   "source": [
    "def D_A(z, Omk=omk):\n",
    "    \"\"\"Angular diameter distance as a function of the redshift.\n",
    "    Note that there are different definitions for different\n",
    "    space-time curvatures.\n",
    "    ===================================================\n",
    "    Inputs: redshift z; curvature density Omk, default given by camb (optional)\n",
    "    Outputs: angular diameter distance D_A\n",
    "    \"\"\"\n",
    "    if Omk == 0:\n",
    "        return r(z) / (1 + z)\n",
    "    \n",
    "    arg = np.sqrt(np.abs(Omk)) * pars.H0 / const.c.value * r(z)\n",
    "    prop_const = const.c.value / pars.H0 / np.sqrt(np.abs(Omk))\n",
    "    \n",
    "    if Omk < 0:\n",
    "        return prop_const / (1 + z) * np.sin(arg)\n",
    "\n",
    "    else:\n",
    "        return prop_const / (1 + z) * np.sinh(arg)\n"
   ]
  },
  {
   "cell_type": "code",
   "execution_count": 12,
   "metadata": {},
   "outputs": [
    {
     "data": {
      "image/png": "[encoded data removed]",
      "text/plain": [
       "<Figure size 640x480 with 1 Axes>"
      ]
     },
     "metadata": {
      "image/png": {
       "height": 448,
       "width": 577
      }
     },
     "output_type": "display_data"
    }
   ],
   "source": [
    "z_to_plot = np.linspace(0, 2.5, 100)\n",
    "\n",
    "fig, ax = plt.subplots()\n",
    "for z in z_to_plot:\n",
    "    ax.scatter(z, D_A(z), c='b', s=0.5)\n",
    "ax.set_xlabel('Redshift $z$')\n",
    "ax.set_ylabel('$D_A(z)$');\n",
    "# ax.set_title('');"
   ]
  },
  {
   "attachments": {},
   "cell_type": "markdown",
   "metadata": {},
   "source": [
    "## Linear perturbations"
   ]
  },
  {
   "attachments": {},
   "cell_type": "markdown",
   "metadata": {},
   "source": [
    "The evolution of the quantum fluctuations from the primordial Universe, for non-relativistic matter on sub-horizon scales can be described by ideal fluid equations. Density fluctuations for a given component $i$ are characterised by the density constrast\n",
    "\n",
    "$$\\delta_i(\\mathbf{x},z) \\equiv \\rho_i(\\mathbf{x},z) / \\bar{\\rho}_i(z) - 1$$\n",
    "\n",
    "which quantifies the deviations of the density field $\\rho_i(\\mathbf{x},z)$ around the mean spatial density \\bar{\\rho}_i(z) over space, where $\\mathbf{x}$ is a three dimensional comoving coordinate at a redshift $z$. Working in Fourier space\n",
    "\n",
    "$$\\delta_i(\\mathbf{x},z) = \\int \\frac{d³k}{(2\\pi)³ }\\tilde{\\delta}_i(\\mathbf{k}, z)exp(-i\\mathbf{k} \\cdot \\mathbf{x})$$\n",
    "\n",
    "The powe spectrum, dimensionless primordial power spectrum of the curvature perturbation generated by inflation, and the transfer function can be defined.\n",
    "\n",
    "The growth of density fluctuations obeys a second-order differential equation. At early enough times, when the fluctuations are small the field equations can be linearised. During matter domination, considering matter as a pressurless ideal fluid, the equation for the evolution of the density contrast becomes.\n",
    "\n",
    "$$\\ddot{\\delta}_m (\\mathbf{k},z) + 2H\\dot{\\delta}_m (\\mathbf{k},z) - \\frac{3H_0²\\Omega_{m,0}}{2a³}\\delta_m(\\mathbf{k},z) =0$$\n",
    "In the $\\Lambda CDM$ scenario, with no massive neutrinos and in terms of the redshift\n",
    "\n",
    "$$\\delta''_m (\\mathbf{k},z) + \\left[\\frac{H'(z)}{H(z)} - \\frac{1}{1+z} \\right]\\delta'_m (\\mathbf{k},z) - \\frac{3}{2}\\frac{\\Omega_m(z)}{(1+z)²}\\delta_m(\\mathbf{k},z)=0$$\n",
    "\n",
    "where dark energy perturbations were neglected and $\\Omega_m(z) = \\Omega_{m,0}(1+z)² / E²(z)$\n",
    " "
   ]
  },
  {
   "attachments": {},
   "cell_type": "markdown",
   "metadata": {},
   "source": [
    "## Weak lensing observable"
   ]
  },
  {
   "attachments": {},
   "cell_type": "markdown",
   "metadata": {},
   "source": [
    "We refer to *weak lensing* as the physical phenomenom and *cosmic shear* as the observable summary statistic that uses weak lensing to extract cosmological parameters.\n",
    "\n",
    "The large-sacale cosmic structure deflects the path of photons from distant galaxies, which induces distortions in the images of these galaxies. *Convergence* is a change in the observed size of a galaxy and *shear* is a change in the observed third flattening or third eccentricity (known as ellipticity or polarisation). The shear field caused by large-scale structure has zero mean because we assume isotropy and homogeneity of the Universe, but tis two-point correlation function and its power spectrum contain cosmological information that probes both the background evolution of the Universe and the growth of cosmic structure. This two point statistics are known as 'cosmic shear'.\n",
    "\n",
    "In order to exploit the cosmic shear for cosmological parameter inference, the real/configuration space measurementof the two-point statistic, as a function of angular separation on the celestial sphere, is known as the *cosmic shear correlation function*. While the angular speherical-harmonic measurement of the two-point statistic is kown as the *cosmic shear power spectrum*. Both these statistics can be computed in a series of redshift bins, which is known as *tomography* and is required in order to achieve high-precision dark energy measurements. We will be focused on the latter statistic.\n",
    "\n",
    "We consider five main quatities that must be modeled in order to recover the observable cosmic shear power spectrum.\n",
    "\n",
    "1. **The cosmic shear power spectrum**. Is the change in the ellipticity of the image of a background galaxy, caused by the lensing effect of large-scale structure along the los. For an individual galaxy we express this, to linear order, as $$\\epsilon = \\gamma + \\epsilon^I$$ where $\\gamma$ is the cosmological shear and $\\epsilon^I$ is the intrinsic ellipticity. This ellipticity is a spin-2 quantity with zero mean over a large survey area and a a non-zero two-point correlation function or power spectrum, encoding information on the expansion history of the Universe and the matter power spectrum. The spherical harmonic transform of the two-point correlation function is the angular power spectrum. Since the full computation of the csomic shear power spectrum is laborious, the Limber approximation is adopted, which allows us to write the observable as $$C_{ij}^{\\gamma\\gamma}(l)\\simeq \\frac{c}{H_0}\\int dz\\frac{W_i^\\gamma(z)W_j^\\gamma(z)}{E(z)r²(z)}P_{\\delta\\delta}\\left[\\frac{l + 1/2}{r(z)},z\\right]$$ where $i$ and $j$ identify pairs of redshift bins, $E(z)$ was defined previously, $r(z)$ is the comoving distance, $P_{\\delta\\delta}(k,z)$ is the matter power spectrum evaluated at $k=k_l(z)\\equiv(l+1/2)/r(z)$ (Limber approximation), and the weight functions $W^\\gamma(z)$ are defined as $$W_i^\\gamma(z) = \\frac{3}{2}\\left(\\frac{H_0}{c}\\right)²\\Omega_{m,0}(1+z)r(z)\\int_z^{z_{max}}dz'n_i(z')\\left[1-\\frac{\\tilde{r}(z)}{\\tilde{r}(z')}\\right] = \\frac{3}{2}\\left(\\frac{H_0}{c}\\right)²\\Omega_{m,0}(1+z)r(z)\\tilde{W}_i(z)$$ where $\\tilde{W}_i(z)$ is the **window function**\n",
    "\n",
    "2. **The intrinsic alignment power spectrum**"
   ]
  },
  {
   "cell_type": "code",
   "execution_count": 13,
   "metadata": {},
   "outputs": [],
   "source": [
    "z_bins = [(i*0.025, (i+1)*0.025) for i in range(100)]\n",
    "\n",
    "# How many points fall in each bin \n",
    "#[sum([(value >= low) and (value < high) for value in data]) for low, high in bins]"
   ]
  },
  {
   "cell_type": "code",
   "execution_count": 45,
   "metadata": {},
   "outputs": [],
   "source": [
    "def pdf(zp, z, cb=1.0, zb=0.0, sigb=0.05, co=1.0, zo=0.1, sigo=0.05, fout=0.1):\n",
    "    \"\"\"Probability distribution function.\n",
    "    Describes the probability that a galaxy with\n",
    "    redshift z has a measured redshift zp.\n",
    "    ===================================================\n",
    "    Inputs: measured reshift zp; galaxy redshift z;\n",
    "    parameters to describe  the photometric redshift\n",
    "    distribution of sources (optionals), defaults:\n",
    "    cb=1, zb=0, sigb=0.05, co=1, zo=1, sigo=0.05, fout=0.1\n",
    "    Output: probability that the galaxy of redshift z\n",
    "    has a measured redshift zp.\n",
    "    \"\"\"\n",
    "    exp1 = np.exp(-1 / 2 * ((z - cb * zp - zb) / sigb * (1 + z)) ** 2)\n",
    "    exp2 = np.exp(-1 / 2 * ((z - co * zp - zo) / sigo * (1 + z)) ** 2)\n",
    "\n",
    "    term1 = (1 - fout) / (np.sqrt(2 * np.pi) * sigb * (1+ z))\n",
    "    term2 = fout / (np.sqrt(2 * np.pi) * sigo * (1+ z))\n",
    "\n",
    "    return term1 * exp1 + term2 * exp2\n",
    "\n",
    "\n",
    "def n(z, zm=0.9):\n",
    "    \"\"\"Underlying distribution of density.\n",
    "    This expression is chosen in agreement with Euclid\n",
    "    Red Book. Note that this does NOT take into account\n",
    "    the proportional constant.\n",
    "    ===================================================\n",
    "    Inputs: redshift z, median redshift zp (optional,\n",
    "    default is 0.9 according to Euclid Red Book)\n",
    "    Output: number density at redshift z.\n",
    "    \"\"\"\n",
    "    z0 = zm / np.sqrt(2)\n",
    "    return (z / z0) ** 2 * np.exp(-(z / z0) ** (3 / 2))\n",
    "\n",
    "\n",
    "def bin_number_density(i, z, zmin=0.0, zmax=2.5):\n",
    "    \"\"\"Number density of observed galaxies in the ith bin.\n",
    "    Quad integration from scipy is used.\n",
    "    ===================================================\n",
    "    Inputs: bin number i, redshift z, min/max redshift \n",
    "    zmin/zmax (optional, default=0.0/2.5)\n",
    "    Output: number density at redshift z in the ith bin.\n",
    "    \"\"\"\n",
    "    ith_bin = z_bins[i]\n",
    "    zi_l, zi_u = ith_bin\n",
    "\n",
    "    def integrand1(u):\n",
    "        return n(z) * pdf(u, z)    \n",
    "    \n",
    "    def integrand2(v, w):\n",
    "        return n(w) * pdf(v, w)  \n",
    "\n",
    "    num = integrate.quad(integrand1, zi_l, zi_u)[0]\n",
    "    den = integrate.nquad(integrand2, [[zi_l, zi_u], [zmin, zmax]])[0]\n",
    "    \n",
    "    return num / den\n",
    "\n",
    "def window(i, z, zmin=0.0, zmax=2.5):\n",
    "    \"\"\"Reduced window function as a function of redshift.\n",
    "    Quad integration from scipy is used.\n",
    "    ===================================================\n",
    "    Inputs: bin number i, redshift z, min/max redshift \n",
    "    zmin/zmax (optional, default=0.0/2.5)\n",
    "    Output: window function evaluated at z\n",
    "    \"\"\"\n",
    "    def integrand(w):\n",
    "        return bin_number_density(i, w) * (1 - r(z) / r(w))\n",
    "    return integrate.quad(integrand, z, zmax)[0]"
   ]
  },
  {
   "cell_type": "code",
   "execution_count": null,
   "metadata": {},
   "outputs": [],
   "source": [
    "z_to_plot = np.linspace(0, 2.5, 100)\n",
    "\n",
    "fig, ax = plt.subplots()\n",
    "for z in z_to_plot:\n",
    "    ax.scatter(z, r(z), c='b', s=0.5)\n",
    "ax.set_xlabel('Redshift $z$')\n",
    "ax.set_ylabel('$r(z)$');\n",
    "# ax.set_title('');"
   ]
  },
  {
   "cell_type": "code",
   "execution_count": 50,
   "metadata": {},
   "outputs": [],
   "source": [
    "fig, ax = plt.subplots()\n",
    "\n",
    "for z in z_to_plot:\n",
    "    ax.plot(window(50, z))\n",
    "ax.set_xlabel('Redshift $z$')\n",
    "ax.set_ylabel(r'Window function $\\tilde{W}_i(z)$');"
   ]
  },
  {
   "cell_type": "code",
   "execution_count": null,
   "metadata": {},
   "outputs": [],
   "source": []
  }
 ],
 "metadata": {
  "kernelspec": {
   "display_name": "base",
   "language": "python",
   "name": "python3"
  },
  "language_info": {
   "codemirror_mode": {
    "name": "ipython",
    "version": 3
   },
   "file_extension": ".py",
   "mimetype": "text/x-python",
   "name": "python",
   "nbconvert_exporter": "python",
   "pygments_lexer": "ipython3",
   "version": "3.9.13"
  },
  "orig_nbformat": 4,
  "vscode": {
   "interpreter": {
    "hash": "2c3681a87b86add1172fbe8a32f5d35d3fd70a7daccc3150707e7fc364115604"
   }
  }
 },
 "nbformat": 4,
 "nbformat_minor": 2
}
