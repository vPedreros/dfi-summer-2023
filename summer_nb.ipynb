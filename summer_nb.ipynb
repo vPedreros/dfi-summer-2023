{
 "cells": [
  {
   "attachments": {},
   "cell_type": "markdown",
   "metadata": {},
   "source": [
    "# Summer project "
   ]
  },
  {
   "attachments": {},
   "cell_type": "markdown",
   "metadata": {},
   "source": [
    "Note that you should have CAMB installed, which can be done by running `pip install camb`. For more information, visit https://camb.info/.\n",
    "\n",
    "The theory is heavily inspired in the articles contained on the folder ''Papers/''"
   ]
  },
  {
   "cell_type": "code",
   "execution_count": null,
   "metadata": {},
   "outputs": [],
   "source": [
    "%matplotlib inline\n",
    "%config InlineBackend.figure_format = 'retina'\n",
    "import sys, platform, os\n",
    "import matplotlib\n",
    "from matplotlib import pyplot as plt\n",
    "import numpy as np\n",
    "from astropy import constants as const\n",
    "import scipy.integrate as integrate\n",
    "import scipy.interpolate as interpolate\n",
    "\n",
    "#Assume installed from github using \"git clone --recursive https://github.com/cmbant/CAMB.git\"\n",
    "#This file is then in the docs folders. Delete these two lines for pip/conda install.\n",
    "camb_path = os.path.realpath(os.path.join(os.getcwd(),'..'))\n",
    "sys.path.insert(0,camb_path)\n",
    "import camb\n",
    "from camb import model, initialpower\n",
    "print('Using CAMB %s installed at %s'%(camb.__version__,os.path.dirname(camb.__file__)))\n",
    "# make sure the version and path is what you expect\n",
    "\n",
    "# matplotlib config\n",
    "plt.rc('font', size=15)  #fontsize for plots\n",
    "#plt.rc('axes', titlesize=20)#fontsize of the title"
   ]
  },
  {
   "cell_type": "code",
   "execution_count": null,
   "metadata": {},
   "outputs": [],
   "source": [
    "l_speed = const.c.value / 1000"
   ]
  },
  {
   "cell_type": "code",
   "execution_count": null,
   "metadata": {},
   "outputs": [],
   "source": [
    "dict_fiducial = {'Omegam': 0.32, 'Omegab': 0.05, 'Omegade': 0.68, 'Omegach2': 0.12055785610846023,\n",
    "                 'w0': -1.0, 'wa': 0, 'hubble': 0.67, 'ns': 0.96, 'sigma8': 0.815584, 'gamma': 0.55}\n",
    "\n",
    "locals().update(dict_fiducial)"
   ]
  },
  {
   "attachments": {},
   "cell_type": "markdown",
   "metadata": {},
   "source": [
    "## Cosmological parameters from Planck\n",
    "\n",
    "From [Planck Collaboration (2018)](https://arxiv.org/pdf/1807.06209.pdf) Table 1, ''Combined'' column.\n",
    "\n",
    "Something worth remembering $\\sum_i^n \\Omega_i(z) + \\Omega_K(z) = 1$"
   ]
  },
  {
   "cell_type": "code",
   "execution_count": null,
   "metadata": {},
   "outputs": [],
   "source": [
    "pars = model.CAMBparams()  # Set of parameters created\n",
    "\n",
    "pars.set_dark_energy(w=-1.0, wa=0, dark_energy_model='fluid')\n",
    "pars.set_cosmology(H0=67, ombh2=Omegab*hubble**2, omch2=Omegach2, tau=0.058);\n",
    "pars.InitPower.set_params(As=2.1260500000000005e-9, ns=ns);"
   ]
  },
  {
   "cell_type": "code",
   "execution_count": null,
   "metadata": {},
   "outputs": [],
   "source": [
    "results = camb.get_results(pars)\n",
    "\n",
    "omk = pars.omk\n",
    "omm = 1 - Omegade - omk"
   ]
  },
  {
   "attachments": {},
   "cell_type": "markdown",
   "metadata": {},
   "source": [
    "## Background Quantities"
   ]
  },
  {
   "attachments": {},
   "cell_type": "markdown",
   "metadata": {},
   "source": [
    "In the context of GR, cosmic acceleration requires a fluid, dubbed **Dark Energy** (DE), with an equation of state $w_{DE} < -1/3$. The standard model of csomology, commonly refered to as the $\\Lambda CDM$ model, assumes that this phenomenon is due to the presence of a cosmological constant $\\Lambda$ described by a constant equation state $w_{\\Lambda} = -1$, which corresponds to a time-independent energy density. This has some problems (*cosmological constant problem* and *coincidence problem*), so a more general scenario for the component responsible for cosmic acceleration postulates a dynamical DE, with a dependent equation of state parameter $w_{DE}(z)$.\n",
    "$$w_{DE}(z) = w_0 + w_a\\frac{z}{1+z}$$\n",
    "Where $w_0$ is  the present value of the equation of state and $w_a$ is a measure of its variation. The evolution of the DE density obeys\n",
    "$$\\rho_{DE} (z) = \\rho_{DE,0} (1+z)^{3(1+w_0+w_a)}exp\\left[-3w_a\\frac{z}{1+z}\\right] $$\n",
    "\n",
    "Then, we can get\n",
    "$$E(z) = \\sqrt{\n",
    "    \\Omega_{m,0}(1+z)^3 + \\Omega_{DE,0}(1+z)^{3(1+w_0+w_a)}exp\\left[-3w_a\\frac{z}{1+z}\\right] + \\Omega_{K,0}(1+z)^2\n",
    "}$$\n",
    "With the current DE density $\\Omega_{DE,0}$ satisfying the relation $\\Omega_{DE,0} = 1 - \\Omega_{m,0} - \\Omega_{K, 0}$. The $\\Lambda CDM$ model can be recovered by setting $w_0=-1$ and $w_a=0$, in which case\n",
    "\n",
    "$$E(z) = \\sqrt{\n",
    "    \\Omega_{m,0}(1+z)^3 + \\Omega_{\\Lambda,0} + \\Omega_{K,0}(1+z)^2\n",
    "}$$"
   ]
  },
  {
   "cell_type": "code",
   "execution_count": null,
   "metadata": {},
   "outputs": [],
   "source": [
    "def E(z, fiducial=dict_fiducial):\n",
    "    locals().update(fiducial)\n",
    "    mat = Omegam * (1 + z) ** 3\n",
    "    de = Omegade * (1 + z) ** (3 * (1 + w0 + wa)) * \\\n",
    "        np.exp(-3 * wa * z / (1 + z))\n",
    "    cur = (1 - Omegam - Omegade) * (1 + z) ** 2\n",
    "    return np.sqrt(mat + de + cur)\n"
   ]
  },
  {
   "cell_type": "code",
   "execution_count": null,
   "metadata": {},
   "outputs": [],
   "source": [
    "z_to_plot = np.linspace(0, 2.5, 100)\n",
    "\n",
    "fig, ax = plt.subplots()\n",
    "\n",
    "ax.plot(z_to_plot, E(z_to_plot), c='mediumpurple')\n",
    "ax.set_xlabel('Redshift $z$')\n",
    "ax.set_ylabel('$E(z)$');\n",
    "# ax.set_title('');"
   ]
  },
  {
   "attachments": {},
   "cell_type": "markdown",
   "metadata": {},
   "source": [
    "## Distance measurements"
   ]
  },
  {
   "attachments": {},
   "cell_type": "markdown",
   "metadata": {},
   "source": [
    "The comoving distance to an object at redshift $z$ can be computed as\n",
    "$$r(z)  \\frac{c}{H_0} \\int _0^z \\frac{dz}{E(z)}$$\n",
    "This quantity is not a direct observable, but it is closely related to other distance definitions that are directly linked with cosmological observations. A relevant distance is the **angular diameter disantance** (at least for our forecasts), whose definitiion is based on the relation between the apparent angular size of an object and its true physical size in Euclidean space, which is relate to the comoving distance by\n",
    "$$D_A(z) = \\begin{cases}\n",
    "(1 + z)^{-1} \\frac{c}{H_0} \\frac{1}{\\sqrt{|\\Omega_{K,0}|}} sin\\left[\\sqrt{|\\Omega_{K,0}|} \\frac{H_0}{c}r(z)\\right]& \\text{if}\\, \\, \\Omega_{K,0} < 0 \\\\\n",
    "(1 + z)^{-1} r(z) & \\text{if}\\, \\, \\Omega_{K,0} = 0 \\\\\n",
    "(1 + z)^{-1} \\frac{c}{H_0} \\frac{1}{\\sqrt{\\Omega_{K,0}}} sinh\\left[\\sqrt{\\Omega_{K,0}} \\frac{H_0}{c}r(z)\\right]& \\text{if}\\, \\, \\Omega_{K,0} < 0 \\\\\n",
    "\\end{cases}$$\n",
    "\n",
    "and this angular diameter distance is related to the transverse comoving distance by $D_A = D_M / (1+z)$"
   ]
  },
  {
   "cell_type": "code",
   "execution_count": null,
   "metadata": {},
   "outputs": [],
   "source": [
    "def r(z, fiducial=dict_fiducial):\n",
    "    \"\"\"Comoving Distance as a function of the redshift\n",
    "    trapz from numpy is used.\n",
    "    ===================================================\n",
    "    Input: redshift z\n",
    "    Output: comoving distance r\n",
    "    \"\"\"\n",
    "    def integrand(u):\n",
    "        return 1/E(u, fiducial)\n",
    "    if type(z) == np.ndarray:\n",
    "        integral = np.zeros(len(z))\n",
    "        for idx, redshift in enumerate(z):\n",
    "            z_int = np.linspace(0, redshift, len(z))\n",
    "            integral[idx] = np.trapz(integrand(z_int), z_int)\n",
    "    else: \n",
    "        z_int = np.linspace(0, z, 200)\n",
    "        integral = np.trapz(integrand(z_int), z_int)\n",
    "    return l_speed / pars.H0 * integral\n"
   ]
  },
  {
   "cell_type": "code",
   "execution_count": null,
   "metadata": {},
   "outputs": [],
   "source": [
    "z_to_plot = np.linspace(0.001, 2.5, 200)\n",
    "\n",
    "fig, ax = plt.subplots()\n",
    "ax.plot(z_to_plot, r(z_to_plot), c='mediumpurple')\n",
    "ax.set_xlabel('Redshift $z$')\n",
    "ax.set_ylabel('$r(z)$');\n",
    "# ax.set_title('');"
   ]
  },
  {
   "cell_type": "code",
   "execution_count": null,
   "metadata": {},
   "outputs": [],
   "source": [
    "def D_A(z, Omk=omk):\n",
    "    \"\"\"Angular diameter distance as a function of the redshift.\n",
    "    Note that there are different definitions for different\n",
    "    space-time curvatures.\n",
    "    ===================================================\n",
    "    Inputs: redshift z; curvature density Omk, default given by camb (optional)\n",
    "    Outputs: angular diameter distance D_A\n",
    "    \"\"\"\n",
    "    if Omk == 0:\n",
    "        return r(z) / (1 + z)\n",
    "    \n",
    "    arg = np.sqrt(np.abs(Omk)) * pars.H0 / l_speed * r(z)\n",
    "    prop_const = l_speed / pars.H0 / np.sqrt(np.abs(Omk))\n",
    "    \n",
    "    if Omk < 0:\n",
    "        return prop_const / (1 + z) * np.sin(arg)\n",
    "\n",
    "    else:\n",
    "        return prop_const / (1 + z) * np.sinh(arg)\n"
   ]
  },
  {
   "cell_type": "code",
   "execution_count": null,
   "metadata": {},
   "outputs": [],
   "source": [
    "z_to_plot = np.linspace(0.001, 2.5, 200)\n",
    "\n",
    "fig, ax = plt.subplots()\n",
    "\n",
    "ax.plot(z_to_plot, D_A(z_to_plot), c='mediumpurple')\n",
    "ax.set_xlabel('Redshift $z$')\n",
    "ax.set_ylabel('$D_A(z)$');\n",
    "# ax.set_title('');"
   ]
  },
  {
   "attachments": {},
   "cell_type": "markdown",
   "metadata": {},
   "source": [
    "## Weak lensing observable"
   ]
  },
  {
   "attachments": {},
   "cell_type": "markdown",
   "metadata": {},
   "source": [
    "We refer to *weak lensing* as the physical phenomenom and *cosmic shear* as the observable summary statistic that uses weak lensing to extract cosmological parameters.\n",
    "\n",
    "The large-sacale cosmic structure deflects the path of photons from distant galaxies, which induces distortions in the images of these galaxies. *Convergence* is a change in the observed size of a galaxy and *shear* is a change in the observed third flattening or third eccentricity (known as ellipticity or polarisation). The shear field caused by large-scale structure has zero mean because we assume isotropy and homogeneity of the Universe, but tis two-point correlation function and its power spectrum contain cosmological information that probes both the background evolution of the Universe and the growth of cosmic structure. This two point statistics are known as 'cosmic shear'.\n",
    "\n",
    "In order to exploit the cosmic shear for cosmological parameter inference, the real/configuration space measurementof the two-point statistic, as a function of angular separation on the celestial sphere, is known as the *cosmic shear correlation function*. While the angular speherical-harmonic measurement of the two-point statistic is kown as the *cosmic shear power spectrum*. Both these statistics can be computed in a series of redshift bins, which is known as *tomography* and is required in order to achieve high-precision dark energy measurements. We will be focused on the latter statistic.\n",
    "\n",
    "We consider five main quatities that must be modeled in order to recover the observable cosmic shear power spectrum.\n",
    "\n",
    "1. **The cosmic shear power spectrum**. Is the change in the ellipticity of the image of a background galaxy, caused by the lensing effect of large-scale structure along the los. For an individual galaxy we express this, to linear order, as $$\\epsilon = \\gamma + \\epsilon^I$$ where $\\gamma$ is the cosmological shear and $\\epsilon^I$ is the intrinsic ellipticity. This ellipticity is a spin-2 quantity with zero mean over a large survey area and a a non-zero two-point correlation function or power spectrum, encoding information on the expansion history of the Universe and the matter power spectrum. The spherical harmonic transform of the two-point correlation function is the angular power spectrum. Since the full computation of the csomic shear power spectrum is laborious, the Limber approximation is adopted, which allows us to write the observable as $$C_{ij}^{\\gamma\\gamma}(\\ell)\\simeq \\frac{c}{H_0}\\int dz\\frac{W_i^\\gamma(z)W_j^\\gamma(z)}{E(z)r²(z)}P_{\\delta\\delta}\\left[\\frac{\\ell + 1/2}{r(z)},z\\right]$$ where $i$ and $j$ identify pairs of redshift bins, $E(z)$ was defined previously, $r(z)$ is the comoving distance, $P_{\\delta\\delta}(k,z)$ is the matter power spectrum evaluated at $k=k_\\ell(z)\\equiv(\\ell+1/2)/r(z)$ (Limber approximation), and the weight functions $W^\\gamma(z)$ are defined as $$W_i^\\gamma(z) = \\frac{3}{2}\\left(\\frac{H_0}{c}\\right)²\\Omega_{m,0}(1+z)r(z)\\int_z^{z_{max}}dz'n_i(z')\\left[1-\\frac{\\tilde{r}(z)}{\\tilde{r}(z')}\\right] = \\frac{3}{2}\\left(\\frac{H_0}{c}\\right)²\\Omega_{m,0}(1+z)r(z)\\tilde{W}_i(z)$$ where $\\tilde{W}_i(z)$ is the **window function**\n",
    "\n",
    "2. **The intrinsic alignment power spectrum** (to be continued)"
   ]
  },
  {
   "cell_type": "code",
   "execution_count": null,
   "metadata": {},
   "outputs": [],
   "source": [
    "z_equipop_bins = [(0.001, 0.42), (0.42, 0.56), (0.56, 0.68), (0.68, 0.79), (0.79, 0.90),\n",
    "                    (0.90, 1.02), (1.02, 1.15) ,(1.15, 1.32), (1.32, 1.58), (1.58, 2.50)]\n",
    "\n",
    "# How many points fall in each bin\n",
    "# [sum([(value >= low) and (value < high) for value in data]) for low, high in bins]"
   ]
  },
  {
   "cell_type": "code",
   "execution_count": null,
   "metadata": {},
   "outputs": [],
   "source": [
    "def pdf(zp, z, cb=1.0, zb=0.0, sigb=0.05, co=1.0, zo=0.1, sigo=0.05, fout=0.1):\n",
    "    \"\"\"Probability distribution function.\n",
    "    Describes the probability that a galaxy with\n",
    "    redshift z has a measured redshift zp.\n",
    "    ===================================================\n",
    "    Inputs: measured reshift zp; galaxy redshift z;\n",
    "    parameters to describe  the photometric redshift\n",
    "    distribution of sources (optionals), defaults:\n",
    "    cb=1, zb=0, sigb=0.05, co=1, zo=1, sigo=0.05, fout=0.1\n",
    "    Output: probability that the galaxy of redshift z\n",
    "    has a measured redshift zp.\n",
    "    \"\"\"\n",
    "    exp1 = np.exp((-1 / 2) * ((z - cb * zp - zb) / (sigb * (1 + z))) ** 2)\n",
    "    exp2 = np.exp((-1 / 2) * ((z - co * zp - zo) / (sigo * (1 + z))) ** 2)\n",
    "\n",
    "    term1 = (1 - fout) / (np.sqrt(2 * np.pi) * sigb * (1 + z))\n",
    "    term2 = fout / (np.sqrt(2 * np.pi) * sigo * (1 + z))\n",
    "    return term1 * exp1 + term2 * exp2\n",
    "\n",
    "\n",
    "def n(z, zm=0.9):\n",
    "    \"\"\"Underlying distribution of density.\n",
    "    This expression is chosen in agreement with Euclid\n",
    "    Red Book. Note that this does NOT take into account\n",
    "    the proportional constant.\n",
    "    ===================================================\n",
    "    Inputs: redshift z, median redshift zp (optional,\n",
    "    default is 0.9 according to Euclid Red Book)\n",
    "    Output: number density at redshift z.\n",
    "    \"\"\"\n",
    "    z0 = zm / np.sqrt(2)\n",
    "    return (z / z0) ** 2 * np.exp(-(z / z0) ** (3 / 2))\n",
    "\n",
    "\n",
    "def bin_number_density(i, z, zmin=0.0, zmax=2.5):\n",
    "    \"\"\"Number density of observed galaxies in the ith bin.\n",
    "    Quad integration from scipy is used.\n",
    "    ===================================================\n",
    "    Inputs: bin number i, redshift z, min/max redshift \n",
    "    zmin/zmax (optional, default=0.0/2.5)\n",
    "    Output: number density at redshift z in the ith bin.\n",
    "    \"\"\"\n",
    "    ith_bin = z_equipop_bins[i]\n",
    "    zi_l, zi_u = ith_bin\n",
    "\n",
    "    def integrand1(u):\n",
    "        return n(z) * pdf(u, z)    \n",
    "    \n",
    "    def integrand2(v, w):\n",
    "        return n(w) * pdf(v, w)  \n",
    "\n",
    "    num = integrate.quad(integrand1, zi_l, zi_u)[0]\n",
    "    den = integrate.nquad(integrand2, [[zi_l, zi_u], [zmin, zmax]])[0]\n",
    "    return num / den"
   ]
  },
  {
   "cell_type": "code",
   "execution_count": null,
   "metadata": {},
   "outputs": [],
   "source": [
    "## Since the following its taking a lot of time, number density per bin will be stored\n",
    "## This takes about an hour (63 min)\n",
    "#\n",
    "## Rounding to avoid getting numbers like 0.200000000001\n",
    "#z_list = [round(i*0.001, 3) for i in range(1, 2502)]\n",
    "#\n",
    "#for i in range(len(z_equipop_bins)):\n",
    "#    list = []\n",
    "#    for z in z_list:\n",
    "#        list.append([z, bin_number_density(i, z)])\n",
    "#    np.savetxt('romb_bin_ndensity/bin_%s'%(str(i)), np.array(list))"
   ]
  },
  {
   "cell_type": "code",
   "execution_count": null,
   "metadata": {},
   "outputs": [],
   "source": [
    "dict_ndsty = {}"
   ]
  },
  {
   "cell_type": "code",
   "execution_count": null,
   "metadata": {},
   "outputs": [],
   "source": [
    "# Interpolating the bin_number_density\n",
    "for i in range(10):\n",
    "    dict_ndsty['ndensity_file%s'%(str(i))] = np.loadtxt('bin_ndensity/bin_%s'%(str(i)))\n",
    "    dict_ndsty['bin_ndensity_%s'%(str(i))] = interpolate.interp1d(dict_ndsty['ndensity_file%s'%(str(i))][:,0], dict_ndsty['ndensity_file%s'%(str(i))][:,1])"
   ]
  },
  {
   "cell_type": "code",
   "execution_count": null,
   "metadata": {},
   "outputs": [],
   "source": [
    "fig, ax = plt.subplots()\n",
    "\n",
    "for i in range(10):\n",
    "    ax.plot(z_to_plot, dict_ndsty['bin_ndensity_%s'%(str(i))](z_to_plot), c='mediumpurple')\n",
    "ax.plot(z_to_plot, 25*n(z_to_plot), c='red')\n",
    "ax.set_xlabel('Redshift $z$')\n",
    "ax.set_ylabel('Number density');"
   ]
  },
  {
   "cell_type": "code",
   "execution_count": null,
   "metadata": {},
   "outputs": [],
   "source": [
    "def window(i, z, zmax=2.5, fiducial=dict_fiducial):\n",
    "    \"\"\"Reduced window function as a function of redshift.\n",
    "    trapz from numpy is used for integration.\n",
    "    ===================================================\n",
    "    Inputs: bin number i, redshift z, min/max redshift \n",
    "    zmin/zmax (optional, default=0.001/2.5)\n",
    "    Output: window function evaluated at z, of the ith bin.\n",
    "    \"\"\"\n",
    "    def integrand(w):\n",
    "        return dict_ndsty['bin_ndensity_%s' % (str(i))](w) * (1 - r(z, fiducial) / r(w, fiducial))\n",
    "\n",
    "    z_int = np.linspace(z, zmax, 200)\n",
    "    integral = np.trapz(integrand(z_int), z_int)\n",
    "\n",
    "    return integral\n",
    "\n",
    "\n",
    "def weight(i, z, fiducial=dict_fiducial):\n",
    "    \"\"\"Weight function of the ith bin, as a function of\n",
    "    redshift.\n",
    "    ===================================================\n",
    "    Inputs: bin number i, redshift z, matter density \n",
    "    Omega_m (optional, default provided by CAMB)\n",
    "    Output: weight function evaluated at z, of the ith bin\n",
    "    \"\"\"\n",
    "    H0 = fiducial['hubble'] * 100\n",
    "    constant = 3 / 2 * (H0 / l_speed) ** 2 * fiducial['Omegam']\n",
    "    z_dep = (1 + z) * r(z, fiducial) * window(i, z, fiducial=fiducial)\n",
    "    return constant * z_dep"
   ]
  },
  {
   "cell_type": "code",
   "execution_count": null,
   "metadata": {},
   "outputs": [],
   "source": [
    "i = 9\n",
    "\n",
    "fig, ax = plt.subplots()\n",
    "\n",
    "for z in z_to_plot:\n",
    "    ax.scatter(z, window(i, z), c='mediumpurple', s=0.5)\n",
    "ax.set_xlabel('Redshift $z$')\n",
    "ax.set_ylabel(r'Window function $\\tilde{W}_%s^{\\gamma\\gamma}(z)$'%(str(i)));"
   ]
  },
  {
   "attachments": {},
   "cell_type": "markdown",
   "metadata": {},
   "source": [
    "### Cosmic shear"
   ]
  },
  {
   "cell_type": "code",
   "execution_count": null,
   "metadata": {},
   "outputs": [],
   "source": [
    "#Now get matter power spectra and sigma8 at redshift 0 and 0.8\n",
    "pars = model.CAMBparams()  # Set of parameters created\n",
    "pars.set_dark_energy(w=-1.0, wa=0, dark_energy_model='fluid')\n",
    "pars.set_cosmology(H0=67, ombh2=Omegab*hubble**2, omch2=Omegach2, tau=0.058);\n",
    "pars.InitPower.set_params(As=2.1260500000000005e-9, ns=ns)\n",
    "#Note non-linear corrections couples to smaller scales than you want\n",
    "pars.set_matter_power(redshifts=np.linspace(0.001, 2.5, 101), kmax=50.0)\n",
    "\n",
    "#Linear spectra\n",
    "pars.NonLinear = model.NonLinear_none\n",
    "results = camb.get_results(pars)\n",
    "kh, z, pk = results.get_matter_power_spectrum(minkh=1e-4, maxkh=50, npoints = 200)"
   ]
  },
  {
   "cell_type": "code",
   "execution_count": null,
   "metadata": {},
   "outputs": [],
   "source": [
    "# Store data for this model\n",
    "dict_mps_data = {'kh': kh, 'z': z, 'pk':pk}\n",
    "\n",
    "for rslt in dict_mps_data:\n",
    "    np.savetxt('mps_data/'+rslt, dict_mps_data[rslt])"
   ]
  },
  {
   "cell_type": "code",
   "execution_count": null,
   "metadata": {},
   "outputs": [],
   "source": [
    "def plot_pk(zs):\n",
    "    \"\"\"Function for plotting the mater power spectrum\n",
    "    ===================================================\n",
    "    Input: list containing 2 sucesive redshift values, zs\n",
    "    Output: plot\n",
    "    \"\"\"\n",
    "    for i, redshift in enumerate(zs):\n",
    "        plt.loglog(kh, pk[i,:])\n",
    "    plt.xlabel('k/h Mpc');\n",
    "    plt.legend(['z=%f'%zs[0],'z=%f'%zs[1]]);\n",
    "    plt.title('Matter power at z=%s and z= %s'%tuple(zs));"
   ]
  },
  {
   "cell_type": "code",
   "execution_count": null,
   "metadata": {},
   "outputs": [],
   "source": [
    "plot_pk([0.0, 0.025])"
   ]
  },
  {
   "cell_type": "code",
   "execution_count": null,
   "metadata": {},
   "outputs": [],
   "source": [
    "# Loading data from matter power spectrum\n",
    "for rslt in dict_mps_data:\n",
    "    rslt = np.loadtxt('mps_data/'+rslt)"
   ]
  },
  {
   "cell_type": "code",
   "execution_count": null,
   "metadata": {},
   "outputs": [],
   "source": [
    "# Interpolating the data\n",
    "mps_linear = interpolate.RectBivariateSpline(z, kh, pk)"
   ]
  },
  {
   "cell_type": "code",
   "execution_count": null,
   "metadata": {},
   "outputs": [],
   "source": [
    "fig, ax = plt.subplots()\n",
    "\n",
    "ax.plot(kh, pk[0,:], 'x', color='k', label='CAMB points', ms=4)\n",
    "ax.plot(kh, mps_linear(0, kh)[0], label='2D interpolation')\n",
    "ax.set_yscale('log')\n",
    "ax.set_xscale('log')\n",
    "ax.legend();"
   ]
  },
  {
   "cell_type": "code",
   "execution_count": null,
   "metadata": {},
   "outputs": [],
   "source": [
    "def convergence(i, j, l, fiducial=dict_fiducial, zmin=0.001, zmax=2.5):\n",
    "    H0 = fiducial['hubble'] * 100\n",
    "    def integrand(z):\n",
    "        term1 = weight(i, z, fiducial) * weight(j, z, fiducial) / \\\n",
    "            (E(z, fiducial) * r(z, fiducial) ** 2)\n",
    "        k = (l + 1/2) / r(z)\n",
    "        term2 = mps_linear(z, k)[0]\n",
    "        return term1 * term2\n",
    "    integral = integrate.quad(integrand, zmin, zmax)[0]\n",
    "    return l_speed / H0 * integral"
   ]
  },
  {
   "cell_type": "code",
   "execution_count": null,
   "metadata": {},
   "outputs": [],
   "source": [
    "load_cosmic = np.loadtxt('convergence/cosmic_shear_array')\n",
    "\n",
    "cosmic_shear_array = np.reshape(load_cosmic, (load_cosmic.shape[0], load_cosmic.shape[1] // 10, 10))"
   ]
  },
  {
   "cell_type": "code",
   "execution_count": null,
   "metadata": {},
   "outputs": [],
   "source": [
    "fig, ax = plt.subplots()\n",
    "\n",
    "ls = np.arange(100, 1501)\n",
    "i, j = 9, 9\n",
    "\n",
    "for l in ls:\n",
    "    ax.scatter(l, l*(l+1)*cosmic_shear_array[l-100, i, j]/2/np.pi, c='mediumpurple', s=0.5)\n",
    "ax.set_xlim((100, 300))\n",
    "ax.set_xlabel('Multipole $\\ell$')\n",
    "ax.set_ylabel(r'$C_{%s%s}^{\\gamma\\gamma}(\\ell)$'%(str(i),str(j)));\n",
    "#ax.legend()"
   ]
  },
  {
   "attachments": {},
   "cell_type": "markdown",
   "metadata": {},
   "source": [
    "#### Correct ells to evaluate"
   ]
  },
  {
   "cell_type": "code",
   "execution_count": null,
   "metadata": {},
   "outputs": [],
   "source": [
    "ls = np.logspace(1, np.log10(1500), 101)\n",
    "l_bins = [(ls[i], ls[i + 1]) for i in range(100)]\n",
    "ls_eval = np.array([(l_bins[i][1] + l_bins[i][0]) / 2 for i in range(100)])"
   ]
  },
  {
   "cell_type": "code",
   "execution_count": 46,
   "metadata": {},
   "outputs": [
    {
     "name": "stdout",
     "output_type": "stream",
     "text": [
      "ell: 41.717886\r"
     ]
    }
   ],
   "source": [
    "# Getting the correct array\n",
    "cosmic_shear = np.zeros((len(ls_eval), 10, 10))\n",
    "\n",
    "for idx, ell in enumerate(ls_eval):\n",
    "    for i in range(10):\n",
    "        for j in range(10):\n",
    "            cosmic_shear[idx, i, j] = convergence(i, j, ell)\n",
    "            print('ell: %f'% (ell), end= '\\r')"
   ]
  },
  {
   "cell_type": "code",
   "execution_count": null,
   "metadata": {},
   "outputs": [],
   "source": [
    "reshape_cosmic = np.reshape(cosmic_shear, (cosmic_shear.shape[0], -1))\n",
    "np.savetxt('convergence/cosmic_shear_correctls', reshape_cosmic)"
   ]
  },
  {
   "cell_type": "code",
   "execution_count": null,
   "metadata": {},
   "outputs": [],
   "source": [
    "load_cosmic = np.loadtxt('convergence/cosmic_shear_array')\n",
    "cosmic_shear = np.reshape(load_cosmic, (load_cosmic.shape[0], load_cosmic.shape[1] // 10, 10))"
   ]
  },
  {
   "attachments": {},
   "cell_type": "markdown",
   "metadata": {},
   "source": [
    "## Fisher Matrix"
   ]
  },
  {
   "attachments": {},
   "cell_type": "markdown",
   "metadata": {},
   "source": [
    "The error on the observed cosmic shear angular power spectrum can be expressed as $$\\Delta C_{ij}^{\\epsilon\\epsilon}(\\ell) = \\sqrt{\\frac{2}{(2l+1)\\Delta \\ell f_{sky}}}C_{ij}^{\\epsilon\\epsilon}(\\ell)$$ where $f_{sky}$ is the fraction of surveyed sky, $\\Delta \\ell $ is the multipole bandwth and the last term is a Poisson noise term.\n",
    "\n",
    "The covariance matrix is defined as $$Cov[C_{ij}^{\\epsilon\\epsilon}(\\ell), C_{kl}^{\\epsilon\\epsilon}(\\ell')]=\\frac{C_{ik}^{\\epsilon\\epsilon} C_{jl}^{\\epsilon\\epsilon}(\\ell') + C_{il}^{\\epsilon\\epsilon}(\\ell)C_{lk}^{\\epsilon\\epsilon}(\\ell')}{(2l+1)f_{sky}\\Delta \\ell}\\delta_{ll'}^K$$\n",
    "\n",
    "In the case that one assumes the signal is the covariance, the Fisher matrix reads\n",
    "$$F_{\\alpha\\beta}=\\sum_{\\ell=\\ell_{min}}^{\\ell_{max}}\\sum_{ij,mn}\\frac{\\partial C_{ij}^{\\epsilon\\epsilon}(\\ell)}{\\partial \\theta_\\alpha}\\left\\{[\\Delta C^{\\epsilon\\epsilon}(\\ell)]^{-1}\\right\\}_{jm}\n",
    "\\frac{\\partial C_{mn}^{\\epsilon\\epsilon}(\\ell)}{\\partial \\theta_\\beta}\\left\\{[\\Delta C^{\\epsilon\\epsilon}(\\ell)]^{-1}\\right\\}_{ni}$$ No cross correlation between the modes with different $l_s$ is included, which is true under the Gaussian covariance assumption.\n",
    "\n",
    "In the case that one assumes the signal is the mean power spectrum, the Fisher matrix reads\n",
    "$$F_{\\alpha\\beta}=\\sum_{\\ell=\\ell_{min}}^{\\ell{max}}\\sum_{ij,mn}\\frac{\\partial C_{ij}^{\\epsilon\\epsilon}(\\ell)}{\\partial \\theta_\\alpha}\\text{Cov}^{-1}[C_{ij}^{\\epsilon\\epsilon}(\\ell), C_{mn}^{\\epsilon\\epsilon}(\\ell)]\n",
    "\\frac{\\partial C_{mn}^{\\epsilon\\epsilon}(\\ell)}{\\partial \\theta_\\beta}$$ \n",
    "\n",
    "The derivative, can be computed as follows. Since the cosmic shear is the dominant observable, the others are negleclted, ie, $C_{ij}^{\\epsilon\\epsilon} \\approx C_{ij}^{\\gamma\\gamma} + N_{ij}^\\epsilon(\\ell)$. Then, the derivated of interest is\n",
    "$$\\frac{\\partial C_{ij}^{\\gamma\\gamma}(\\ell)}{\\partial \\theta_\\mu} = \\int_{z_{min}}^{z_{max}}dz\\frac{\\partial K_{ij}^{\\gamma\\gamma}(z)}{\\partial \\theta_\\mu} P_{\\delta\\delta}[k_\\ell(z),z] +\\int_{z_{min}}^{z_{max}}dzK_{ij}^{\\gamma\\gamma}(z)\\frac{\\partial P_{\\delta\\delta}[k_\\ell(z),z]}{\\partial \\theta_\\mu}$$ \n",
    "\n",
    "where \n",
    "$K_{ij}^{\\gamma\\gamma}(z) =  \\left[\\frac{3}{2}\\Omega_{m,0}(1+z)\\right]²\\left(\\frac{H_0}{c}\\right)³\\frac{\\tilde{W}_i^\\gamma(z)\\tilde{W}_j^\\gamma(z)}{E(z)}$"
   ]
  },
  {
   "cell_type": "code",
   "execution_count": null,
   "metadata": {},
   "outputs": [],
   "source": [
    "def error_convergence(i, j, l, fsky=1.0, dl=10):\n",
    "    term1 = np.sqrt(2 / ((2 * l + 1) * dl * fsky))\n",
    "    term2 = cosmic_shear[l]\n",
    "    return term1 * term2"
   ]
  },
  {
   "cell_type": "code",
   "execution_count": null,
   "metadata": {},
   "outputs": [],
   "source": [
    "ell = 10\n",
    "\n",
    "fig, ax = plt.subplots()\n",
    "\n",
    "im = ax.imshow(error_convergence(ell - 10))\n",
    "ax.set_title('$\\Delta C_{ij}^{\\gamma\\gamma}(\\ell)$')\n",
    "ax.set_ylim(ax.get_ylim()[::-1])\n",
    "fig.colorbar(im)"
   ]
  },
  {
   "cell_type": "code",
   "execution_count": null,
   "metadata": {},
   "outputs": [],
   "source": [
    "def covariance(i, j, m, n, fsky=(1/15000), dl=1490):\n",
    "    covariance_matrix = np.zeros((100, 100))\n",
    "    for idx, l in enumerate(ls_eval):\n",
    "        num1 = cosmic_shear_array[int(np.round(l, 0)), i, m] * cosmic_shear_array[int(np.round(l, 0)), j, n]\n",
    "        num2 = cosmic_shear_array[int(np.round(l, 0)), i, n] * cosmic_shear_array[int(np.round(l, 0)), j, m]\n",
    "        covariance_matrix[idx] = (num1 + num2) / ((2 * l + 1) * fsky * dl)\n",
    "    return covariance_matrix"
   ]
  }
 ],
 "metadata": {
  "kernelspec": {
   "display_name": "base",
   "language": "python",
   "name": "python3"
  },
  "language_info": {
   "codemirror_mode": {
    "name": "ipython",
    "version": 3
   },
   "file_extension": ".py",
   "mimetype": "text/x-python",
   "name": "python",
   "nbconvert_exporter": "python",
   "pygments_lexer": "ipython3",
   "version": "3.9.13"
  },
  "orig_nbformat": 4,
  "vscode": {
   "interpreter": {
    "hash": "2c3681a87b86add1172fbe8a32f5d35d3fd70a7daccc3150707e7fc364115604"
   }
  }
 },
 "nbformat": 4,
 "nbformat_minor": 2
}
